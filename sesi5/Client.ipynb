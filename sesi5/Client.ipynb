{
 "cells": [
  {
   "cell_type": "code",
   "execution_count": null,
   "id": "94707b2d",
   "metadata": {},
   "outputs": [
    {
     "name": "stdout",
     "output_type": "stream",
     "text": [
      "[TERHUBUNG] Terhubung ke server 127.0.0.1:8080\n"
     ]
    }
   ],
   "source": [
    "import socket\n",
    "import threading\n",
    "import sys\n",
    "\n",
    "SERVER_HOST = '127.0.0.1'  # sesuaikan dengan IP server\n",
    "SERVER_PORT = 8080\n",
    "\n",
    "def receive_messages(sock):\n",
    "    \"\"\"Menerima pesan dari server secara real-time.\"\"\"\n",
    "    while True:\n",
    "        try:\n",
    "            msg = sock.recv(1024)\n",
    "            if not msg:\n",
    "                print(\"[INFO] Koneksi ke server terputus.\")\n",
    "                break\n",
    "            print(\"\\n\" + msg.decode() + \"\\n> \", end=\"\")\n",
    "        except ConnectionResetError:\n",
    "            print(\"[ERROR] Server memutus koneksi.\")\n",
    "            break\n",
    "        except Exception as e:\n",
    "            print(f\"[ERROR] {e}\")\n",
    "            break\n",
    "    sock.close()\n",
    "    sys.exit()\n",
    "\n",
    "def start_client():\n",
    "    \"\"\"Menghubungkan client ke server.\"\"\"\n",
    "    client = socket.socket(socket.AF_INET, socket.SOCK_STREAM)\n",
    "    try:\n",
    "        client.connect((SERVER_HOST, SERVER_PORT))\n",
    "        print(f\"[TERHUBUNG] Terhubung ke server {SERVER_HOST}:{SERVER_PORT}\")\n",
    "    except Exception as e:\n",
    "        print(f\"[ERROR] Tidak bisa terhubung ke servoker: {e}\")\n",
    "        return\n",
    "\n",
    "    # Thread untuk menerima pesan dari server\n",
    "    thread = threading.Thread(target=receive_messages, args=(client,), daemon=True)\n",
    "    thread.start()\n",
    "\n",
    "    try:\n",
    "        while True:\n",
    "            msg = input(\"> \")\n",
    "            if msg.lower() == 'exit':\n",
    "                print(\"[INFO] Keluar dari chat.\")\n",
    "                client.close()\n",
    "                break\n",
    "            client.send(msg.encode())\n",
    "    except KeyboardInterrupt:\n",
    "        print(\"\\n[INFO] Keluar dari chat.\")\n",
    "        client.close()\n",
    "\n",
    "if __name__ == \"__main__\":\n",
    "    start_client()"
   ]
  }
 ],
 "metadata": {
  "kernelspec": {
   "display_name": "base",
   "language": "python",
   "name": "python3"
  },
  "language_info": {
   "codemirror_mode": {
    "name": "ipython",
    "version": 3
   },
   "file_extension": ".py",
   "mimetype": "text/x-python",
   "name": "python",
   "nbconvert_exporter": "python",
   "pygments_lexer": "ipython3",
   "version": "3.12.7"
  }
 },
 "nbformat": 4,
 "nbformat_minor": 5
}
