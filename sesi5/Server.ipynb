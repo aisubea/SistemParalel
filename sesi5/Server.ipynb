{
 "cells": [
  {
   "cell_type": "code",
   "execution_count": null,
   "id": "ecec0912",
   "metadata": {},
   "outputs": [
    {
     "name": "stdout",
     "output_type": "stream",
     "text": [
      "[SERVER AKTIF] Menunggu koneksi di 127.0.0.1:8080\n",
      "[TERHUBUNG] ('127.0.0.1', 55505)\n"
     ]
    }
   ],
   "source": [
    "import socket\n",
    "import threading\n",
    "\n",
    "# Konfigurasi server\n",
    "HOST = '127.0.0.1'   # menerima koneksi dari semua IP\n",
    "PORT = 8080\n",
    "\n",
    "clients = []\n",
    "lock = threading.Lock()\n",
    "\n",
    "def broadcast(message, sender_socket=None):\n",
    "    \"\"\"Kirim pesan ke semua client kecuali pengirim.\"\"\"\n",
    "    with lock:\n",
    "        disconnected = []\n",
    "        for client in clients:\n",
    "            if client == sender_socket:\n",
    "                continue\n",
    "            try:\n",
    "                client.send(message)\n",
    "            except Exception as e:\n",
    "                print(f\"[ERROR] Tidak bisa kirim ke client: {e}\")\n",
    "                disconnected.append(client)\n",
    "        # Hapus client yang sudah terputus\n",
    "        for dc in disconnected:\n",
    "            if dc in clients:\n",
    "                clients.remove(dc)\n",
    "                dc.close()\n",
    "\n",
    "def handle_client(client_socket, address):\n",
    "    \"\"\"Menangani komunikasi dengan satu client.\"\"\"\n",
    "    print(f\"[TERHUBUNG] {address}\")\n",
    "    try:\n",
    "        while True:\n",
    "            msg = client_socket.recv(1024)\n",
    "            if not msg:\n",
    "                break  # client keluar\n",
    "            decoded_msg = msg.decode().strip()\n",
    "            print(f\"[{address}] {decoded_msg}\")\n",
    "            # Kirim pesan ke semua client lain\n",
    "            broadcast(f\"[{address}] {decoded_msg}\".encode(), client_socket)\n",
    "    except (ConnectionResetError, ConnectionAbortedError):\n",
    "        print(f\"[DISKONEK] Client {address} terputus secara tiba-tiba.\")\n",
    "    finally:\n",
    "        with lock:\n",
    "            if client_socket in clients:\n",
    "                clients.remove(client_socket)\n",
    "        client_socket.close()\n",
    "        print(f\"[PUTUS] {address} keluar dari server.\")\n",
    "\n",
    "def start_server():\n",
    "    \"\"\"Menjalankan server dan menerima koneksi baru.\"\"\"\n",
    "    server = socket.socket(socket.AF_INET, socket.SOCK_STREAM)\n",
    "    server.setsockopt(socket.SOL_SOCKET, socket.SO_REUSEADDR, 1)  # hindari error port in use\n",
    "    server.bind((HOST, PORT))\n",
    "    server.listen(10)\n",
    "    print(f\"[SERVER AKTIF] Menunggu koneksi di {HOST}:{PORT}\")\n",
    "\n",
    "    try:\n",
    "        while True:\n",
    "            client_socket, addr = server.accept()\n",
    "            with lock:\n",
    "                clients.append(client_socket)\n",
    "            thread = threading.Thread(target=handle_client, args=(client_socket, addr), daemon=True)\n",
    "            thread.start()\n",
    "    except KeyboardInterrupt:\n",
    "        print(\"\\n[SERVER DsIMATIKAN OLEH USER]\")\n",
    "    finally:\n",
    "        with lock:\n",
    "            for c in clients:\n",
    "                c.close()\n",
    "            clients.clear()\n",
    "        server.close()\n",
    "\n",
    "if __name__ == \"__main__\":\n",
    "    start_server()\n"
   ]
  }
 ],
 "metadata": {
  "kernelspec": {
   "display_name": "base",
   "language": "python",
   "name": "python3"
  },
  "language_info": {
   "codemirror_mode": {
    "name": "ipython",
    "version": 3
   },
   "file_extension": ".py",
   "mimetype": "text/x-python",
   "name": "python",
   "nbconvert_exporter": "python",
   "pygments_lexer": "ipython3",
   "version": "3.12.7"
  }
 },
 "nbformat": 4,
 "nbformat_minor": 5
}
